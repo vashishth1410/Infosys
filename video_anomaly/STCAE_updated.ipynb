{
 "cells": [
  {
   "cell_type": "code",
   "execution_count": 1,
   "id": "930ab171-c7de-47e3-a720-7da8a6106523",
   "metadata": {},
   "outputs": [
    {
     "name": "stdout",
     "output_type": "stream",
     "text": [
      "Images shape: (18560, 256, 256, 1)\n",
      "Labels shape: (18560,)\n"
     ]
    }
   ],
   "source": [
    "import os\n",
    "import cv2\n",
    "import numpy as np\n",
    "\n",
    "# Step 1: Define the root directory\n",
    "root_dir = \"C:/Users/vashi/OneDrive/Desktop/video_dat/archive (2)/UCSD_Anomaly_Dataset.v1p2\"\n",
    "\n",
    "# Function to load preprocessed data\n",
    "def load_preprocessed_data(dataset_dir, target_size=(256, 256)):\n",
    "    images = []\n",
    "    labels = []\n",
    "    for filename in os.listdir(dataset_dir):\n",
    "        if filename.endswith(\".tif\"):\n",
    "            img_path = os.path.join(dataset_dir, filename)\n",
    "            img = cv2.imread(img_path, cv2.IMREAD_GRAYSCALE)\n",
    "            img = cv2.resize(img, target_size)  # Resize image to target size\n",
    "            label = int(filename.split('_')[2])\n",
    "            images.append(img)\n",
    "            labels.append(label)\n",
    "    return np.array(images), np.array(labels)\n",
    "\n",
    "# Paths\n",
    "dataset_dir = os.path.join(root_dir, \"Dataset\")\n",
    "\n",
    "# Load data\n",
    "images, labels = load_preprocessed_data(dataset_dir)\n",
    "\n",
    "# Normalize images\n",
    "images = images.astype('float32') / 255.0\n",
    "images = np.expand_dims(images, axis=-1)\n",
    "\n",
    "# Print shapes to verify\n",
    "print(f\"Images shape: {images.shape}\")\n",
    "print(f\"Labels shape: {labels.shape}\")\n"
   ]
  },
  {
   "cell_type": "code",
   "execution_count": 3,
   "id": "ae8531e8-6ce6-46cd-918a-bf7e9abc23dc",
   "metadata": {},
   "outputs": [
    {
     "name": "stdout",
     "output_type": "stream",
     "text": [
      "Epoch 1/5\n",
      "\u001b[1m464/464\u001b[0m \u001b[32m━━━━━━━━━━━━━━━━━━━━\u001b[0m\u001b[37m\u001b[0m \u001b[1m1350s\u001b[0m 3s/step - loss: 0.6041 - val_loss: 0.5856\n",
      "Epoch 2/5\n",
      "\u001b[1m464/464\u001b[0m \u001b[32m━━━━━━━━━━━━━━━━━━━━\u001b[0m\u001b[37m\u001b[0m \u001b[1m1361s\u001b[0m 3s/step - loss: 0.5861 - val_loss: 0.5844\n",
      "Epoch 3/5\n",
      "\u001b[1m464/464\u001b[0m \u001b[32m━━━━━━━━━━━━━━━━━━━━\u001b[0m\u001b[37m\u001b[0m \u001b[1m1455s\u001b[0m 3s/step - loss: 0.5849 - val_loss: 0.5839\n",
      "Epoch 4/5\n",
      "\u001b[1m464/464\u001b[0m \u001b[32m━━━━━━━━━━━━━━━━━━━━\u001b[0m\u001b[37m\u001b[0m \u001b[1m1288s\u001b[0m 3s/step - loss: 0.5851 - val_loss: 0.5837\n",
      "Epoch 5/5\n",
      "\u001b[1m464/464\u001b[0m \u001b[32m━━━━━━━━━━━━━━━━━━━━\u001b[0m\u001b[37m\u001b[0m \u001b[1m1262s\u001b[0m 3s/step - loss: 0.5844 - val_loss: 0.5835\n"
     ]
    },
    {
     "data": {
      "text/plain": [
       "<keras.src.callbacks.history.History at 0x148076e4590>"
      ]
     },
     "execution_count": 3,
     "metadata": {},
     "output_type": "execute_result"
    }
   ],
   "source": [
    "from sklearn.model_selection import train_test_split\n",
    "import tensorflow as tf\n",
    "from tensorflow.keras.models import Model\n",
    "from tensorflow.keras.layers import Input, Conv2D, MaxPooling2D, UpSampling2D\n",
    "\n",
    "# Step 2: Split data into training and validation sets\n",
    "train_images, val_images, train_labels, val_labels = train_test_split(images, labels, test_size=0.2, random_state=42)\n",
    "\n",
    "# Step 3: Define STCAE model\n",
    "def create_stcae_model(input_shape):\n",
    "    input_img = Input(shape=input_shape)\n",
    "\n",
    "    # Encoder\n",
    "    x = Conv2D(32, (3, 3), activation='relu', padding='same')(input_img)\n",
    "    x = MaxPooling2D((2, 2), padding='same')(x)\n",
    "    x = Conv2D(64, (3, 3), activation='relu', padding='same')(x)\n",
    "    x = MaxPooling2D((2, 2), padding='same')(x)\n",
    "    x = Conv2D(128, (3, 3), activation='relu', padding='same')(x)\n",
    "    encoded = MaxPooling2D((2, 2), padding='same')(x)\n",
    "\n",
    "    # Decoder\n",
    "    x = Conv2D(128, (3, 3), activation='relu', padding='same')(encoded)\n",
    "    x = UpSampling2D((2, 2))(x)\n",
    "    x = Conv2D(64, (3, 3), activation='relu', padding='same')(x)\n",
    "    x = UpSampling2D((2, 2))(x)\n",
    "    x = Conv2D(32, (3, 3), activation='relu', padding='same')(x)\n",
    "    x = UpSampling2D((2, 2))(x)\n",
    "    decoded = Conv2D(1, (3, 3), activation='sigmoid', padding='same')(x)\n",
    "\n",
    "    autoencoder = Model(input_img, decoded)\n",
    "    return autoencoder\n",
    "\n",
    "# Create the model\n",
    "input_shape = (images.shape[1], images.shape[2], 1)\n",
    "stcae_model = create_stcae_model(input_shape)\n",
    "\n",
    "# Compile the model\n",
    "stcae_model.compile(optimizer='adam', loss='binary_crossentropy')\n",
    "\n",
    "# Step 4: Train the model\n",
    "stcae_model.fit(train_images, train_images, epochs=5, batch_size=32, shuffle=True, validation_data=(val_images, val_images))\n"
   ]
  },
  {
   "cell_type": "code",
   "execution_count": 5,
   "id": "e57fceaf-a84a-41bb-8e44-0d04a5e3d0d6",
   "metadata": {},
   "outputs": [
    {
     "name": "stdout",
     "output_type": "stream",
     "text": [
      "\u001b[1m116/116\u001b[0m \u001b[32m━━━━━━━━━━━━━━━━━━━━\u001b[0m\u001b[37m\u001b[0m \u001b[1m96s\u001b[0m 821ms/step\n",
      "Accuracy: 67.19%\n"
     ]
    }
   ],
   "source": [
    "# Step 5: Predict on validation set\n",
    "reconstructed_images = stcae_model.predict(val_images)\n",
    "\n",
    "# Calculate reconstruction error\n",
    "reconstruction_error = np.mean(np.square(val_images - reconstructed_images), axis=(1, 2, 3))\n",
    "\n",
    "# Set a threshold for anomaly detection\n",
    "threshold = np.percentile(reconstruction_error, 95)\n",
    "\n",
    "# Predict anomalies\n",
    "predicted_anomalies = reconstruction_error > threshold\n",
    "\n",
    "# Evaluate accuracy\n",
    "accuracy = np.mean(predicted_anomalies == val_labels)\n",
    "print(f'Accuracy: {accuracy * 100:.2f}%')\n"
   ]
  },
  {
   "cell_type": "code",
   "execution_count": null,
   "id": "0ee81697-b3d6-4f2f-b09a-ef59aa446b88",
   "metadata": {},
   "outputs": [],
   "source": []
  }
 ],
 "metadata": {
  "kernelspec": {
   "display_name": "Python 3 (ipykernel)",
   "language": "python",
   "name": "python3"
  },
  "language_info": {
   "codemirror_mode": {
    "name": "ipython",
    "version": 3
   },
   "file_extension": ".py",
   "mimetype": "text/x-python",
   "name": "python",
   "nbconvert_exporter": "python",
   "pygments_lexer": "ipython3",
   "version": "3.11.7"
  }
 },
 "nbformat": 4,
 "nbformat_minor": 5
}
