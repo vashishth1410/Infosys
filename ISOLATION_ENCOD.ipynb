{
 "cells": [
  {
   "cell_type": "code",
   "execution_count": 2,
   "id": "5f301859-45ab-47bd-8c4f-ebd00dd3410f",
   "metadata": {},
   "outputs": [
    {
     "name": "stdout",
     "output_type": "stream",
     "text": [
      "\u001b[1m754/754\u001b[0m \u001b[32m━━━━━━━━━━━━━━━━━━━━\u001b[0m\u001b[37m\u001b[0m \u001b[1m1s\u001b[0m 1ms/step\n"
     ]
    }
   ],
   "source": [
    "import pandas as pd\n",
    "import numpy as np\n",
    "import matplotlib.pyplot as plt\n",
    "import seaborn as sns\n",
    "from sklearn.model_selection import train_test_split\n",
    "from sklearn.preprocessing import StandardScaler\n",
    "from keras.models import Model, Sequential\n",
    "from keras.layers import Input, Dense\n",
    "from keras import regularizers\n",
    "\n",
    "# Load the CSV file\n",
    "file_path = 'Crowd data for anomaly detection.csv'\n",
    "data = pd.read_csv(file_path)\n",
    "\n",
    "# Selecting relevant columns\n",
    "features = ['Density', 'LevelOfCrowdness', 'Speed']\n",
    "target = 'label'\n",
    "\n",
    "# Splitting data into features and target\n",
    "X = data[features]\n",
    "y = data[target]\n",
    "\n",
    "# Standardize the data\n",
    "scaler = StandardScaler()\n",
    "X_scaled = scaler.fit_transform(X)\n",
    "\n",
    "# Define the autoencoder model\n",
    "input_dim = X_scaled.shape[1]\n",
    "encoding_dim = 2  # Number of dimensions to compress to\n",
    "\n",
    "input_layer = Input(shape=(input_dim,))\n",
    "encoder = Dense(encoding_dim, activation=\"relu\",\n",
    "                activity_regularizer=regularizers.l1(10e-5))(input_layer)\n",
    "decoder = Dense(input_dim, activation='linear')(encoder)\n",
    "autoencoder = Model(inputs=input_layer, outputs=decoder)\n",
    "\n",
    "# Compile the autoencoder\n",
    "autoencoder.compile(optimizer='adam', loss='mse')\n",
    "\n",
    "# Train the autoencoder\n",
    "autoencoder.fit(X_scaled, X_scaled, epochs=100, batch_size=32, shuffle=True, validation_split=0.2, verbose=0)\n",
    "\n",
    "# Extract the encoder part of the autoencoder\n",
    "encoder_model = Model(inputs=input_layer, outputs=encoder)\n",
    "\n",
    "# Get the compressed representation of the data\n",
    "X_compressed = encoder_model.predict(X_scaled)\n",
    "\n",
    "# Splitting compressed data into training and testing sets\n",
    "X_train_compressed, X_test_compressed, y_train, y_test = train_test_split(X_compressed, y, test_size=0.3, random_state=42)\n"
   ]
  },
  {
   "cell_type": "code",
   "execution_count": 4,
   "id": "20ee1b54-bd0e-40f9-80dc-f7d9da3b4759",
   "metadata": {},
   "outputs": [
    {
     "name": "stdout",
     "output_type": "stream",
     "text": [
      "Isolation Forest Accuracy: 0.72\n",
      "Isolation Forest Classification Report:\n",
      "              precision    recall  f1-score   support\n",
      "\n",
      "           0       0.72      0.99      0.83      5065\n",
      "           1       0.76      0.09      0.15      2172\n",
      "\n",
      "    accuracy                           0.72      7237\n",
      "   macro avg       0.74      0.54      0.49      7237\n",
      "weighted avg       0.73      0.72      0.63      7237\n",
      "\n"
     ]
    },
    {
     "data": {
      "image/png": "[encoded data removed]",
      "text/plain": [
       "<Figure size 1000x700 with 2 Axes>"
      ]
     },
     "metadata": {},
     "output_type": "display_data"
    }
   ],
   "source": [
    "from sklearn.ensemble import IsolationForest\n",
    "from sklearn.metrics import accuracy_score, classification_report, confusion_matrix\n",
    "\n",
    "# Train the Isolation Forest model\n",
    "iso_forest = IsolationForest(contamination=0.03, random_state=42)\n",
    "iso_forest.fit(X_train_compressed)\n",
    "\n",
    "# Predict the outliers in the test set\n",
    "y_pred_train = iso_forest.predict(X_train_compressed)\n",
    "y_pred_test = iso_forest.predict(X_test_compressed)\n",
    "\n",
    "# Convert predictions to binary labels (1 for normal, -1 for outliers)\n",
    "y_pred_train = np.where(y_pred_train == 1, 0, 1)\n",
    "y_pred_test = np.where(y_pred_test == 1, 0, 1)\n",
    "\n",
    "# Evaluate the model\n",
    "accuracy = accuracy_score(y_test, y_pred_test)\n",
    "conf_matrix = confusion_matrix(y_test, y_pred_test)\n",
    "class_report = classification_report(y_test, y_pred_test)\n",
    "\n",
    "print(f'Isolation Forest Accuracy: {accuracy:.2f}')\n",
    "print(\"Isolation Forest Classification Report:\")\n",
    "print(class_report)\n",
    "\n",
    "# Visualizing the confusion matrix\n",
    "plt.figure(figsize=(10, 7))\n",
    "sns.heatmap(conf_matrix, annot=True, fmt='d', cmap='Blues')\n",
    "plt.xlabel('Predicted')\n",
    "plt.ylabel('Actual')\n",
    "plt.title('Isolation Forest Confusion Matrix')\n",
    "plt.savefig('IsolationForest_confusion_matrix_ENCOD.png')\n",
    "plt.show()\n"
   ]
  },
  {
   "cell_type": "code",
   "execution_count": 6,
   "id": "45da9733-b852-4165-a232-b070c2caffd7",
   "metadata": {},
   "outputs": [
    {
     "ename": "AttributeError",
     "evalue": "'IsolationForest' object has no attribute 'predict_proba'",
     "output_type": "error",
     "traceback": [
      "\u001b[1;31m---------------------------------------------------------------------------\u001b[0m",
      "\u001b[1;31mAttributeError\u001b[0m                            Traceback (most recent call last)",
      "Cell \u001b[1;32mIn[6], line 2\u001b[0m\n\u001b[0;32m      1\u001b[0m \u001b[38;5;66;03m# Calculate the decision function scores\u001b[39;00m\n\u001b[1;32m----> 2\u001b[0m anomaly_scores \u001b[38;5;241m=\u001b[39m \u001b[38;5;241m-\u001b[39miso_forest\u001b[38;5;241m.\u001b[39mpredict_proba(X_test_compressed)[:, \u001b[38;5;241m1\u001b[39m]\n\u001b[0;32m      4\u001b[0m \u001b[38;5;66;03m# Set a threshold to identify anomalies\u001b[39;00m\n\u001b[0;32m      5\u001b[0m threshold \u001b[38;5;241m=\u001b[39m np\u001b[38;5;241m.\u001b[39mpercentile(anomaly_scores, \u001b[38;5;241m95\u001b[39m)\n",
      "\u001b[1;31mAttributeError\u001b[0m: 'IsolationForest' object has no attribute 'predict_proba'"
     ]
    }
   ],
   "source": [
    "# Calculate the decision function scores\n",
    "anomaly_scores = -iso_forest.predict_proba(X_test_compressed)[:, 1]\n",
    "\n",
    "# Set a threshold to identify anomalies\n",
    "threshold = np.percentile(anomaly_scores, 95)\n",
    "anomalies = np.where(anomaly_scores > threshold)[0]\n",
    "\n",
    "# Visualizing anomalies\n",
    "plt.figure(figsize=(10, 7))\n",
    "plt.scatter(X_test_compressed[:, 0], X_test_compressed[:, 1], c='blue', label='Normal Data')\n",
    "plt.scatter(X_test_compressed[anomalies, 0], X_test_compressed[anomalies, 1], c='red', label='Anomalies')\n",
    "plt.xlabel('Compressed Feature 1')\n",
    "plt.ylabel('Compressed Feature 2')\n",
    "plt.title('Anomalies in Compressed Data')\n",
    "plt.legend()\n",
    "plt.savefig('/mnt/data/DecisionTree_anomalies.png')\n",
    "plt.show()\n",
    "\n",
    "print(f'Number of anomalies detected: {len(anomalies)}')\n"
   ]
  },
  {
   "cell_type": "code",
   "execution_count": null,
   "id": "bdaabc2b-8573-498f-b683-671c0c86b697",
   "metadata": {},
   "outputs": [],
   "source": []
  }
 ],
 "metadata": {
  "kernelspec": {
   "display_name": "Python 3 (ipykernel)",
   "language": "python",
   "name": "python3"
  },
  "language_info": {
   "codemirror_mode": {
    "name": "ipython",
    "version": 3
   },
   "file_extension": ".py",
   "mimetype": "text/x-python",
   "name": "python",
   "nbconvert_exporter": "python",
   "pygments_lexer": "ipython3",
   "version": "3.11.7"
  }
 },
 "nbformat": 4,
 "nbformat_minor": 5
}
